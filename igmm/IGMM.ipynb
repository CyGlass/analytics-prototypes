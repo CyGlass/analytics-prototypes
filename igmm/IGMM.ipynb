{
 "cells": [
  {
   "cell_type": "code",
   "execution_count": 24,
   "id": "68c48ef7",
   "metadata": {},
   "outputs": [],
   "source": [
    "import numpy as np\n",
    "import random as rnd\n",
    "import scipy.spatial.distance as distance\n",
    "import math\n",
    "import scipy.stats as stats\n",
    "from sklearn.preprocessing import normalize"
   ]
  },
  {
   "cell_type": "code",
   "execution_count": 25,
   "id": "a9a838d8",
   "metadata": {},
   "outputs": [],
   "source": [
    "D = 4; K = 0; Beta = 0.1; delta = 0.01\n",
    "mus = np.ndarray(D + 1); sigmas = np.ndarray(D+1)\n",
    "for i in range(D + 1):\n",
    "    mus[i] = 2 * i / 3 * D\n",
    "    sigmas[i] = (i % 3 + 2) / D\n",
    "    \n",
    "numvectors = 10; lenvectors = 3\n",
    "X = np.ndarray((numvectors, lenvectors))\n",
    "\n",
    "for i in range(numvectors):\n",
    "    index = i % (D + 1)\n",
    "    \n",
    "    for j in range(lenvectors):\n",
    "        X[i,j] = rnd.gauss(mus[index], sigmas[index])\n",
    "        \n",
    "    #print(X[i])\n",
    "    for j in range(lenvectors):\n",
    "        summed = sum(X[i])\n",
    "        X[i,j] = X[i,j] / summed\n",
    "        \n",
    "    #print(X[i])"
   ]
  },
  {
   "cell_type": "code",
   "execution_count": 26,
   "id": "c3e67dfb",
   "metadata": {},
   "outputs": [],
   "source": [
    "sigma = np.std(X)\n",
    "sigmaInv = sigma ** -1\n",
    "#print(sigmaInv)\n",
    "alpha = sigmaInv * np.identity(lenvectors)\n",
    "covarDet = np.linalg.det(alpha) ** -1\n",
    "#print(alpha)\n",
    "\n",
    "alphas = {}\n",
    "mus = {}\n",
    "covDets = {}\n",
    "comProbs = {}\n",
    "ages = {}\n",
    "accumulators ={}\n",
    "\n",
    "alphas[0] = alpha\n",
    "covDets[0] = covarDet\n",
    "mus[0] = X[0]\n",
    "comProbs[0] = 1\n",
    "ages[0] = 1\n",
    "accumulators[0] = 1\n",
    "K = 1"
   ]
  },
  {
   "cell_type": "code",
   "execution_count": 27,
   "id": "beea6354",
   "metadata": {},
   "outputs": [
    {
     "ename": "SyntaxError",
     "evalue": "invalid syntax (Temp/ipykernel_9116/3171557721.py, line 13)",
     "output_type": "error",
     "traceback": [
      "\u001b[1;36m  File \u001b[1;32m\"C:\\Users\\mwats\\AppData\\Local\\Temp/ipykernel_9116/3171557721.py\"\u001b[1;36m, line \u001b[1;32m13\u001b[0m\n\u001b[1;33m    dist3 = math.\u001b[0m\n\u001b[1;37m                 ^\u001b[0m\n\u001b[1;31mSyntaxError\u001b[0m\u001b[1;31m:\u001b[0m invalid syntax\n"
     ]
    }
   ],
   "source": [
    "for i in range(len(X)):\n",
    "    if i == 0:\n",
    "        continue\n",
    "    updated = False\n",
    "    \n",
    "    for j in range(K):\n",
    "        if i == j:\n",
    "            continue\n",
    "            \n",
    "        dist = distance.mahalanobis(X[i], mus[j], alphas[j]) ** 2\n",
    "        print(dist)\n",
    "        #dist2 = stats.multivariate_normal.logpdf(X[i], mus[j], np.linalg.inv(alpha))\n",
    "        #dist3 = math.exp(dist2)\n",
    "        #print(dist2)\n",
    "        #print(dist3)\n",
    "        dist2 = stats.multivariate_normal.pdf(X[i], mus[j], np.linalg.inv(alpha))\n",
    "        print()\n",
    "        \n",
    "        if dist < dist2:\n",
    "            print('call update')\n",
    "            update(accumulators, ages, alphas, comProbs, covDets, D, j, K, mus, sigmaInv, X[i])\n",
    "            updated = True\n",
    "            \n",
    "    if not updated:\n",
    "        print('call create')\n",
    "        K = create(accumulators, ages, alphas, comProbs, covDets, K, mus, sigmaInv, X[i])\n",
    "    "
   ]
  },
  {
   "cell_type": "code",
   "execution_count": 19,
   "id": "ce4e0638",
   "metadata": {},
   "outputs": [],
   "source": [
    "def create(accumulators, ages, alphas, comProbs, covDets, K, mus, sigmaInv, x):\n",
    "    accumulators[K] = 1\n",
    "    ages[K] = 1\n",
    "    alphas[K] = sigmaInv * np.identity(len(alphas[0]))\n",
    "    comProb = 1 / sum(accumulators.values())\n",
    "    covDets = np.linalg.det(alphas[K]) ** -1\n",
    "    mus[K] = x\n",
    "    K += 1\n",
    "    return K\n"
   ]
  },
  {
   "cell_type": "code",
   "execution_count": 22,
   "id": "45541d2b",
   "metadata": {},
   "outputs": [],
   "source": [
    "def update(accumulators, ages, alphas, comProbs, covDets, D, j, K, mus, sigmaInv, x):\n",
    "    dist = distance.mahalanobis(x, mus[j], alphas[j]) ** 2\n",
    "    pxj = 1 / ((2 * math.pi) ** (D / 2) * math.sqrt(covDets[j])) * math.exp(-0.5 * dist)\n",
    "    \n",
    "    pjx = pxj * comProbs[j]\n",
    "    totProbs = 0\n",
    "    for i in range(K):\n",
    "        pxi =  1 / ((2 * math.pi) ** (D / 2) * math.sqrt(covDets[i])) * math.exp(-0.5 * dist)\n",
    "        totProbs += pxi * comProb[i]\n",
    "    pjx /= totProbs\n",
    "    \n",
    "    ages[j] += 1\n",
    "    accumulators[j] += pjx\n",
    "    \n",
    "    ej = x - mus[j]\n",
    "    weight = pjx / accumulators[j]\n",
    "    \n",
    "    deltaMu = weight * ej\n",
    "    mus[j] += deltaMu\n",
    "    \n",
    "    oldAlpha = alphas[j]\n",
    "    ejStar = x - mu[j]\n",
    "    newAlpha = oldAlpha / (1 - weight) - (weight / (1 - weight) ** 2) * np.matmul(np.matmul(oldAlpha, ejStar), np.matmul(ejStar.transpose(), oldAlpha)) \\\n",
    "            / (1 + (weight / (1 - weight)) * np.matmul(np.matmul(ejStar.transpose(), oldAlpha),ejStar))\n",
    "    alphas[j] = newAlpha +  (np.matmul(np.matmul(newAlpha, mus[j]), np.matmul(mus[j].transpose(), newAlpha))) \\\n",
    "            / (1 - np.matmul(np.matmul(mus[j].transpose(), newAlpha), mus[j]))\n",
    "    \n",
    "    comProb[j] = accumulators[j] / sum(accumulators.values())\n",
    "    \n",
    "    newCovDet = (1 - weight) ^ D * covDets[j] * (1 + weight/(1 - weight) * np.matmul(ejStar.transpose(), np.matmul(oldAlpha, ejStar)))\n",
    "    covDets[j] = newCovDet * (1 - np.matmul(deltaMu.transpose(), np.matmul(newAlpha, deltaMu)))\n",
    "    \n",
    "    "
   ]
  },
  {
   "cell_type": "code",
   "execution_count": 13,
   "id": "ea51cc65",
   "metadata": {},
   "outputs": [
    {
     "data": {
      "text/plain": [
       "1"
      ]
     },
     "execution_count": 13,
     "metadata": {},
     "output_type": "execute_result"
    }
   ],
   "source": []
  }
 ],
 "metadata": {
  "kernelspec": {
   "display_name": "Python 3 (ipykernel)",
   "language": "python",
   "name": "python3"
  },
  "language_info": {
   "codemirror_mode": {
    "name": "ipython",
    "version": 3
   },
   "file_extension": ".py",
   "mimetype": "text/x-python",
   "name": "python",
   "nbconvert_exporter": "python",
   "pygments_lexer": "ipython3",
   "version": "3.9.7"
  }
 },
 "nbformat": 4,
 "nbformat_minor": 5
}
